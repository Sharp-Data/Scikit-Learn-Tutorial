{
 "cells": [
  {
   "cell_type": "markdown",
   "metadata": {},
   "source": [
    "## Part II: Predicting Hall of Fame Careers"
   ]
  },
  {
   "cell_type": "code",
   "execution_count": 3,
   "metadata": {
    "collapsed": true
   },
   "outputs": [],
   "source": [
    "# Connecting to SQLite Database\n",
    "import pandas as pd\n",
    "import sqlite3\n",
    "conn = sqlite3.connect(\"lahman2016.sqlite\")"
   ]
  },
  {
   "cell_type": "code",
   "execution_count": 4,
   "metadata": {
    "collapsed": true
   },
   "outputs": [],
   "source": [
    "queryMaster = 'select playerID,nameFirst,nameLast,bats,throws,debut,finalGame from Master;'\n",
    "queryBatting = 'select * from Batting;'\n",
    "queryPitching = 'select * from Pitching;'\n",
    "queryFielding = 'select * from Fielding;'\n",
    "queryHOF = 'select playerID,yearid from HallofFame where inducted == \"Y\" and category == \"Player\";'"
   ]
  },
  {
   "cell_type": "code",
   "execution_count": 5,
   "metadata": {
    "collapsed": false
   },
   "outputs": [],
   "source": [
    "master = conn.execute(queryMaster).fetchall()\n",
    "master_df = pd.DataFrame(master)\n",
    "batting = conn.execute(queryBatting).fetchall()\n",
    "batting_df = pd.DataFrame(batting)\n",
    "pitching = conn.execute(queryPitching).fetchall()\n",
    "pitching_df = pd.DataFrame(pitching)\n",
    "fielding = conn.execute(queryFielding).fetchall()\n",
    "fielding_df = pd.DataFrame(fielding)\n",
    "hof = conn.execute(queryHOF).fetchall()\n",
    "hof_df = pd.DataFrame(hof)"
   ]
  },
  {
   "cell_type": "code",
   "execution_count": null,
   "metadata": {
    "collapsed": true
   },
   "outputs": [],
   "source": []
  }
 ],
 "metadata": {
  "anaconda-cloud": {},
  "kernelspec": {
   "display_name": "Python [conda root]",
   "language": "python",
   "name": "conda-root-py"
  },
  "language_info": {
   "codemirror_mode": {
    "name": "ipython",
    "version": 3
   },
   "file_extension": ".py",
   "mimetype": "text/x-python",
   "name": "python",
   "nbconvert_exporter": "python",
   "pygments_lexer": "ipython3",
   "version": "3.5.2"
  }
 },
 "nbformat": 4,
 "nbformat_minor": 1
}
